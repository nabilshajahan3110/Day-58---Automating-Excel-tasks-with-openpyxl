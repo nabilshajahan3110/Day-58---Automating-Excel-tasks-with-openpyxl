{
 "cells": [
  {
   "cell_type": "markdown",
   "id": "cb239072-c937-47e8-bafc-8861430797b5",
   "metadata": {},
   "source": [
    "# Automating Excel tasks with openpyxl"
   ]
  },
  {
   "cell_type": "markdown",
   "id": "1d35038d-d8aa-4608-938c-797ea51a0581",
   "metadata": {},
   "source": [
    "## Instructions:\n",
    "1. Complete the tasks below using the **openpyxl** library in Python.\n",
    "2. Each task involves manipulating Excel files. Ensure you use proper coding practices.\n",
    "3. Any required Excel files are provided or generated as part of the assignment."
   ]
  },
  {
   "cell_type": "code",
   "execution_count": 11,
   "id": "bff0cb59-f86f-4a13-8099-680a34b59317",
   "metadata": {},
   "outputs": [],
   "source": [
    "import warnings\n",
    "import sys\n",
    "if not sys.warnoptions:\n",
    "    warnings.simplefilter(\"ignore\")"
   ]
  },
  {
   "cell_type": "markdown",
   "id": "fe8c3257-ac12-48bf-800d-02a67047a853",
   "metadata": {},
   "source": [
    "### Task 1: Create and Save an Excel File"
   ]
  },
  {
   "cell_type": "code",
   "execution_count": 13,
   "id": "84262280-ca6b-44a8-a1a6-416806ec5db8",
   "metadata": {},
   "outputs": [
    {
     "name": "stdout",
     "output_type": "stream",
     "text": [
      "Task 1: File 'employee_data.xlsx' created successfully!\n"
     ]
    }
   ],
   "source": [
    "from openpyxl import Workbook\n",
    "\n",
    "# Create a new workbook\n",
    "wb = Workbook()\n",
    "\n",
    "# Add a new sheet named \"Employee Data\"\n",
    "ws = wb.active\n",
    "ws.title = \"Employee Data\"\n",
    "\n",
    "# Add data to the sheet\n",
    "data = [\n",
    "    [\"Name\", \"Age\", \"Department\"],\n",
    "    [\"Alice\", 30, \"HR\"],\n",
    "    [\"Bob\", 25, \"IT\"],\n",
    "    [\"Charlie\", 28, \"Finance\"],\n",
    "    [\"Diana\", 35, \"Marketing\"]\n",
    "]\n",
    "\n",
    "for row in data:\n",
    "    ws.append(row)\n",
    "\n",
    "# Save the workbook\n",
    "wb.save(\"employee_data.xlsx\")\n",
    "print(\"Task 1: File 'employee_data.xlsx' created successfully!\")"
   ]
  },
  {
   "cell_type": "markdown",
   "id": "43bb40f9-2815-49e8-9e7f-72edfe10a833",
   "metadata": {},
   "source": [
    "### Task 2: Read Data from an Excel File"
   ]
  },
  {
   "cell_type": "code",
   "execution_count": 15,
   "id": "abe9b726-780b-457c-a965-a2ff18c88714",
   "metadata": {},
   "outputs": [
    {
     "name": "stdout",
     "output_type": "stream",
     "text": [
      "('Name', 'Age', 'Department')\n",
      "('Alice', 30, 'HR')\n",
      "('Bob', 25, 'IT')\n",
      "('Charlie', 28, 'Finance')\n",
      "('Diana', 35, 'Marketing')\n"
     ]
    }
   ],
   "source": [
    "from openpyxl import load_workbook\n",
    "\n",
    "# Load the workbook\n",
    "wb = load_workbook(\"employee_data.xlsx\")\n",
    "\n",
    "# Select the \"Employee Data\" sheet\n",
    "ws = wb[\"Employee Data\"]\n",
    "\n",
    "# Read and print all rows\n",
    "data = []\n",
    "for row in ws.iter_rows(values_only=True):\n",
    "    print(row)"
   ]
  },
  {
   "cell_type": "markdown",
   "id": "57d049d9-5b36-407d-af06-ea2684f4a712",
   "metadata": {},
   "source": [
    "### Task 3: Add a New Column"
   ]
  },
  {
   "cell_type": "code",
   "execution_count": 17,
   "id": "eb0839c2-22ef-47c2-8503-f336a1c56839",
   "metadata": {},
   "outputs": [
    {
     "name": "stdout",
     "output_type": "stream",
     "text": [
      "Task 3: File 'employee_data_updated.xlsx' updated with Salary column!\n"
     ]
    }
   ],
   "source": [
    "import random\n",
    "\n",
    "# Load the workbook\n",
    "wb = load_workbook(\"employee_data.xlsx\")\n",
    "ws = wb[\"Employee Data\"]\n",
    "\n",
    "# Add \"Salary\" column header\n",
    "ws[\"D1\"] = \"Salary\"\n",
    "\n",
    "# Add random salaries for each employee\n",
    "for row in range(2, ws.max_row + 1):\n",
    "    ws[f\"D{row}\"] = random.randint(40000, 80000)\n",
    "\n",
    "# Save the updated workbook\n",
    "wb.save(\"employee_data_updated.xlsx\")\n",
    "print(\"Task 3: File 'employee_data_updated.xlsx' updated with Salary column!\")"
   ]
  },
  {
   "cell_type": "markdown",
   "id": "461c8401-5e30-48f9-a3ee-dd5aef9a8e8c",
   "metadata": {},
   "source": [
    "### Task 4: Create a Chart"
   ]
  },
  {
   "cell_type": "code",
   "execution_count": 19,
   "id": "fcb6455a-7e08-42df-b4d4-82d69aeab0c1",
   "metadata": {},
   "outputs": [
    {
     "name": "stdout",
     "output_type": "stream",
     "text": [
      "Task 4: File 'employee_data_chart.xlsx' created with Salary Chart!\n"
     ]
    }
   ],
   "source": [
    "from openpyxl.chart import BarChart, Reference\n",
    "\n",
    "# Load the workbook\n",
    "wb = load_workbook(\"employee_data_updated.xlsx\")\n",
    "ws = wb[\"Employee Data\"]\n",
    "\n",
    "# Create a bar chart\n",
    "chart = BarChart()\n",
    "chart.title = \"Employee Salaries\"\n",
    "chart.x_axis.title = \"Name\"\n",
    "chart.y_axis.title = \"Salary\"\n",
    "\n",
    "# Add data to the chart\n",
    "names = Reference(ws, min_col=1, min_row=2, max_row=ws.max_row)\n",
    "salaries = Reference(ws, min_col=4, min_row=1, max_row=ws.max_row)\n",
    "chart.add_data(salaries, titles_from_data=True)\n",
    "chart.set_categories(names)\n",
    "\n",
    "# Add the chart to a new sheet\n",
    "chart_sheet = wb.create_sheet(\"Salary Chart\")\n",
    "chart_sheet.add_chart(chart, \"A1\")\n",
    "\n",
    "# Save the updated workbook\n",
    "wb.save(\"employee_data_chart.xlsx\")\n",
    "print(\"Task 4: File 'employee_data_chart.xlsx' created with Salary Chart!\")"
   ]
  },
  {
   "cell_type": "markdown",
   "id": "534ffbaa-2cf8-440d-a22f-f8f113f431f7",
   "metadata": {},
   "source": [
    "### Task 5: Conditional Formatting"
   ]
  },
  {
   "cell_type": "code",
   "execution_count": 21,
   "id": "c7e816d5-3289-44cd-ab2f-65d40fc2ed5b",
   "metadata": {},
   "outputs": [
    {
     "name": "stdout",
     "output_type": "stream",
     "text": [
      "Task 5: File 'employee_data_conditional.xlsx' updated with conditional formatting!\n"
     ]
    }
   ],
   "source": [
    "from openpyxl.styles import PatternFill\n",
    "from openpyxl.formatting.rule import CellIsRule\n",
    "\n",
    "# Load the workbook\n",
    "wb = load_workbook(\"employee_data_chart.xlsx\")\n",
    "ws = wb[\"Employee Data\"]\n",
    "\n",
    "# Define the rule for conditional formatting\n",
    "green_fill = PatternFill(start_color=\"00FF00\", end_color=\"00FF00\", fill_type=\"solid\")\n",
    "rule = CellIsRule(operator=\"greaterThan\", formula=[\"60000\"], fill=green_fill)\n",
    "\n",
    "# Apply the rule to the Salary column\n",
    "ws.conditional_formatting.add(\"D2:D{0}\".format(ws.max_row), rule)\n",
    "\n",
    "# Save the updated workbook\n",
    "wb.save(\"employee_data_conditional.xlsx\")\n",
    "print(\"Task 5: File 'employee_data_conditional.xlsx' updated with conditional formatting!\")"
   ]
  }
 ],
 "metadata": {
  "kernelspec": {
   "display_name": "Python 3 (ipykernel)",
   "language": "python",
   "name": "python3"
  },
  "language_info": {
   "codemirror_mode": {
    "name": "ipython",
    "version": 3
   },
   "file_extension": ".py",
   "mimetype": "text/x-python",
   "name": "python",
   "nbconvert_exporter": "python",
   "pygments_lexer": "ipython3",
   "version": "3.12.4"
  }
 },
 "nbformat": 4,
 "nbformat_minor": 5
}
